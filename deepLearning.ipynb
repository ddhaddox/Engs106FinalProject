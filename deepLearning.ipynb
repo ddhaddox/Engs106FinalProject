{
 "cells": [
  {
   "cell_type": "markdown",
   "metadata": {},
   "source": [
    "# ENGS106 Final Project: Deep Learning Pipeline for Optiver Data\n"
   ]
  },
  {
   "cell_type": "markdown",
   "metadata": {},
   "source": [
    "## Import Libraries, Set Parameters, Read & Display Data"
   ]
  },
  {
   "cell_type": "code",
   "execution_count": null,
   "metadata": {},
   "outputs": [],
   "source": [
    "import zipfile\n",
    "import numpy as np\n",
    "import pandas as pd\n",
    "import torch\n",
    "import torch.nn as nn\n",
    "import torch.optim as optim\n",
    "from torch.utils.data import Dataset, DataLoader\n",
    "from sklearn.preprocessing import MinMaxScaler\n",
    "from sklearn.metrics import mean_absolute_error, mean_squared_error, r2_score\n",
    "from tqdm import tqdm\n",
    "import random\n",
    "from torch.nn.utils import clip_grad_norm_\n",
    "from torch.optim import AdamW\n",
    "from torch.optim.lr_scheduler import ReduceLROnPlateau\n",
    "from sklearn.model_selection._split import _BaseKFold, indexable, _num_samples\n",
    "from sklearn.utils.validation import _deprecate_positional_args\n",
    "\n",
    "# Reproducibility\n",
    "def set_seed(seed=42):\n",
    "    random.seed(seed)\n",
    "    np.random.seed(seed)\n",
    "    torch.manual_seed(seed)\n",
    "    if torch.cuda.is_available():\n",
    "        torch.cuda.manual_seed_all(seed)\n",
    "set_seed(42)\n",
    "\n",
    "# Hyperparameters\n",
    "BATCH_SIZE = 32\n",
    "NUM_EPOCHS = 500\n",
    "LEARNING_RATE = 1e-4\n",
    "WEIGHT_DECAY = 0.01\n",
    "DROPOUT = 0.25\n",
    "PATIENCE = 8\n",
    "LR_PATIENCE = 5\n",
    "N_FOLDS = 5\n",
    "\n",
    "device = torch.device('cuda' if torch.cuda.is_available() else 'cpu')\n",
    "pd.set_option('display.max_columns', None)\n",
    "\n",
    "# Ensures that validation groups are temporally separated from training groups by a gap (`val_group_gap`).\n",
    "# Splits data into `n_splits` folds while preserving the order of groups.\n",
    "class PurgedGroupTimeSeriesSplit(_BaseKFold):\n",
    "    @_deprecate_positional_args\n",
    "    def __init__(self, n_splits=5, *,\n",
    "                 max_train_group_size=np.inf,\n",
    "                 max_val_group_size=np.inf,\n",
    "                 val_group_gap=10,\n",
    "                 verbose=False):\n",
    "        super().__init__(n_splits, shuffle=False, random_state=None)\n",
    "        self.max_train_group_size = max_train_group_size\n",
    "        self.max_val_group_size = max_val_group_size\n",
    "        self.val_group_gap = val_group_gap\n",
    "        self.verbose = verbose\n",
    "        \n",
    "    def split(self, X, y=None, groups=None):      \n",
    "        X, y, groups = indexable(X, y, groups)\n",
    "        n_splits = self.n_splits\n",
    "        group_gap = self.val_group_gap\n",
    "        max_val_group_size = self.max_val_group_size\n",
    "        n_folds = n_splits + 1\n",
    "        \n",
    "        u, ind = np.unique(groups, return_index=True)\n",
    "        unique_groups = u[np.argsort(ind)]\n",
    "        n_groups = _num_samples(unique_groups)\n",
    "        \n",
    "        group_val_size = min(n_groups // n_folds, max_val_group_size)\n",
    "        group_val_starts = range(n_groups - n_splits * group_val_size, n_groups, group_val_size)\n",
    "        \n",
    "        group_dict = {}\n",
    "        n_samples = _num_samples(X)\n",
    "        for idx in range(n_samples):\n",
    "            group = groups[idx]\n",
    "            group_dict.setdefault(group, []).append(idx)\n",
    "        \n",
    "        for group_val_start in group_val_starts:\n",
    "            train_indices = []\n",
    "            val_indices = []\n",
    "            for g in unique_groups[:max(0, group_val_start - group_gap)]:\n",
    "                train_indices.extend(group_dict[g])\n",
    "            for g in unique_groups[group_val_start:group_val_start + group_val_size]:\n",
    "                val_indices.extend(group_dict[g])\n",
    "            yield train_indices, val_indices"
   ]
  },
  {
   "cell_type": "code",
   "execution_count": 9,
   "metadata": {},
   "outputs": [
    {
     "data": {
      "text/html": [
       "<div>\n",
       "<style scoped>\n",
       "    .dataframe tbody tr th:only-of-type {\n",
       "        vertical-align: middle;\n",
       "    }\n",
       "\n",
       "    .dataframe tbody tr th {\n",
       "        vertical-align: top;\n",
       "    }\n",
       "\n",
       "    .dataframe thead th {\n",
       "        text-align: right;\n",
       "    }\n",
       "</style>\n",
       "<table border=\"1\" class=\"dataframe\">\n",
       "  <thead>\n",
       "    <tr style=\"text-align: right;\">\n",
       "      <th></th>\n",
       "      <th>stock_id</th>\n",
       "      <th>date_id</th>\n",
       "      <th>seconds_in_bucket</th>\n",
       "      <th>imbalance_size</th>\n",
       "      <th>imbalance_buy_sell_flag</th>\n",
       "      <th>reference_price</th>\n",
       "      <th>matched_size</th>\n",
       "      <th>far_price</th>\n",
       "      <th>near_price</th>\n",
       "      <th>bid_price</th>\n",
       "      <th>bid_size</th>\n",
       "      <th>ask_price</th>\n",
       "      <th>ask_size</th>\n",
       "      <th>wap</th>\n",
       "      <th>target</th>\n",
       "      <th>time_id</th>\n",
       "      <th>row_id</th>\n",
       "      <th>baseline_prediction</th>\n",
       "      <th>simple_prediction</th>\n",
       "      <th>seconds_in_bucket_group</th>\n",
       "      <th>imbalance_buy_flag</th>\n",
       "      <th>imbalance_sell_flag</th>\n",
       "      <th>no_imbalance</th>\n",
       "      <th>bid_plus_ask_sizes</th>\n",
       "      <th>median_vol</th>\n",
       "      <th>high_volume</th>\n",
       "      <th>imbalance_ratio</th>\n",
       "      <th>bid_ask_volume_diff</th>\n",
       "      <th>mid_price</th>\n",
       "      <th>size_imbalance</th>\n",
       "      <th>price_spread</th>\n",
       "      <th>liquidity_imbalance</th>\n",
       "      <th>matched_imbalance</th>\n",
       "      <th>market_urgency</th>\n",
       "      <th>market_urgency_v2</th>\n",
       "      <th>far_price_reference_price_imb</th>\n",
       "      <th>near_price_reference_price_imb</th>\n",
       "      <th>near_price_far_price_imb</th>\n",
       "      <th>bid_price_reference_price_imb</th>\n",
       "      <th>bid_price_far_price_imb</th>\n",
       "      <th>bid_price_near_price_imb</th>\n",
       "      <th>ask_price_reference_price_imb</th>\n",
       "      <th>ask_price_far_price_imb</th>\n",
       "      <th>ask_price_near_price_imb</th>\n",
       "      <th>ask_price_bid_price_imb</th>\n",
       "      <th>wap_reference_price_imb</th>\n",
       "      <th>wap_far_price_imb</th>\n",
       "      <th>wap_near_price_imb</th>\n",
       "      <th>wap_bid_price_imb</th>\n",
       "      <th>wap_ask_price_imb</th>\n",
       "      <th>near_price_far_price_reference_price_imb2</th>\n",
       "      <th>bid_price_far_price_reference_price_imb2</th>\n",
       "      <th>bid_price_near_price_reference_price_imb2</th>\n",
       "      <th>bid_price_near_price_far_price_imb2</th>\n",
       "      <th>ask_price_far_price_reference_price_imb2</th>\n",
       "      <th>ask_price_near_price_reference_price_imb2</th>\n",
       "      <th>ask_price_near_price_far_price_imb2</th>\n",
       "      <th>ask_price_bid_price_reference_price_imb2</th>\n",
       "      <th>ask_price_bid_price_far_price_imb2</th>\n",
       "      <th>ask_price_bid_price_near_price_imb2</th>\n",
       "      <th>wap_far_price_reference_price_imb2</th>\n",
       "      <th>wap_near_price_reference_price_imb2</th>\n",
       "      <th>wap_near_price_far_price_imb2</th>\n",
       "      <th>wap_bid_price_reference_price_imb2</th>\n",
       "      <th>wap_bid_price_far_price_imb2</th>\n",
       "      <th>wap_bid_price_near_price_imb2</th>\n",
       "      <th>wap_ask_price_reference_price_imb2</th>\n",
       "      <th>wap_ask_price_far_price_imb2</th>\n",
       "      <th>wap_ask_price_near_price_imb2</th>\n",
       "      <th>wap_ask_price_bid_price_imb2</th>\n",
       "      <th>stock_weights</th>\n",
       "      <th>weighted_wap</th>\n",
       "      <th>wap_momentum</th>\n",
       "      <th>imbalance_momentum</th>\n",
       "      <th>spread_intensity</th>\n",
       "      <th>price_pressure</th>\n",
       "      <th>depth_pressure</th>\n",
       "      <th>spread_depth_ratio</th>\n",
       "      <th>mid_price_movement</th>\n",
       "      <th>micro_price</th>\n",
       "      <th>relative_spread</th>\n",
       "      <th>all_prices_mean</th>\n",
       "      <th>all_sizes_mean</th>\n",
       "      <th>all_prices_std</th>\n",
       "      <th>all_sizes_std</th>\n",
       "      <th>all_prices_skew</th>\n",
       "      <th>all_sizes_skew</th>\n",
       "      <th>all_prices_kurt</th>\n",
       "      <th>all_sizes_kurt</th>\n",
       "      <th>vwap</th>\n",
       "      <th>rolling_mean_matched_size</th>\n",
       "      <th>wap_skewness</th>\n",
       "      <th>wap_kurtosis</th>\n",
       "      <th>is_high_volume</th>\n",
       "      <th>matched_size_group_first_ratio</th>\n",
       "      <th>ask_price_group_first_ratio</th>\n",
       "      <th>bid_price_group_first_ratio</th>\n",
       "      <th>ask_size_group_first_ratio</th>\n",
       "      <th>bid_size_group_first_ratio</th>\n",
       "      <th>wap_group_first_ratio</th>\n",
       "      <th>near_price_group_first_ratio</th>\n",
       "      <th>far_price_group_first_ratio</th>\n",
       "      <th>reference_price_group_first_ratio</th>\n",
       "      <th>matched_size_group_expanding_mean100</th>\n",
       "      <th>ask_price_group_expanding_mean100</th>\n",
       "      <th>bid_price_group_expanding_mean100</th>\n",
       "      <th>ask_size_group_expanding_mean100</th>\n",
       "      <th>bid_size_group_expanding_mean100</th>\n",
       "      <th>wap_group_expanding_mean100</th>\n",
       "      <th>near_price_group_expanding_mean100</th>\n",
       "      <th>far_price_group_expanding_mean100</th>\n",
       "      <th>reference_price_group_expanding_mean100</th>\n",
       "      <th>matched_size_seconds_in_bucket_group_mean_ratio</th>\n",
       "      <th>ask_price_seconds_in_bucket_group_mean_ratio</th>\n",
       "      <th>bid_price_seconds_in_bucket_group_mean_ratio</th>\n",
       "      <th>ask_size_seconds_in_bucket_group_mean_ratio</th>\n",
       "      <th>bid_size_seconds_in_bucket_group_mean_ratio</th>\n",
       "      <th>wap_seconds_in_bucket_group_mean_ratio</th>\n",
       "      <th>near_price_seconds_in_bucket_group_mean_ratio</th>\n",
       "      <th>far_price_seconds_in_bucket_group_mean_ratio</th>\n",
       "      <th>reference_price_seconds_in_bucket_group_mean_ratio</th>\n",
       "      <th>matched_size_seconds_in_bucket_group_rank</th>\n",
       "      <th>ask_price_seconds_in_bucket_group_rank</th>\n",
       "      <th>bid_price_seconds_in_bucket_group_rank</th>\n",
       "      <th>ask_size_seconds_in_bucket_group_rank</th>\n",
       "      <th>bid_size_seconds_in_bucket_group_rank</th>\n",
       "      <th>wap_seconds_in_bucket_group_rank</th>\n",
       "      <th>near_price_seconds_in_bucket_group_rank</th>\n",
       "      <th>far_price_seconds_in_bucket_group_rank</th>\n",
       "      <th>reference_price_seconds_in_bucket_group_rank</th>\n",
       "    </tr>\n",
       "  </thead>\n",
       "  <tbody>\n",
       "    <tr>\n",
       "      <th>0</th>\n",
       "      <td>0</td>\n",
       "      <td>0</td>\n",
       "      <td>0</td>\n",
       "      <td>3180602.69</td>\n",
       "      <td>1</td>\n",
       "      <td>0.999812</td>\n",
       "      <td>13380276.64</td>\n",
       "      <td>1.001713</td>\n",
       "      <td>0.99966</td>\n",
       "      <td>0.999812</td>\n",
       "      <td>60651.50</td>\n",
       "      <td>1.000026</td>\n",
       "      <td>8493.03</td>\n",
       "      <td>1.0</td>\n",
       "      <td>-3.029704</td>\n",
       "      <td>0</td>\n",
       "      <td>0_0_0</td>\n",
       "      <td>0</td>\n",
       "      <td>0.1</td>\n",
       "      <td>0.0</td>\n",
       "      <td>1</td>\n",
       "      <td>0</td>\n",
       "      <td>0</td>\n",
       "      <td>69144.53</td>\n",
       "      <td>42739.16</td>\n",
       "      <td>1</td>\n",
       "      <td>0.237708</td>\n",
       "      <td>-52158.47</td>\n",
       "      <td>0.999919</td>\n",
       "      <td>7.141326</td>\n",
       "      <td>0.000214</td>\n",
       "      <td>0.754340</td>\n",
       "      <td>-0.615890</td>\n",
       "      <td>0.000161</td>\n",
       "      <td>0.000081</td>\n",
       "      <td>0.000950</td>\n",
       "      <td>-0.000076</td>\n",
       "      <td>-0.001026</td>\n",
       "      <td>0.000000</td>\n",
       "      <td>-0.000950</td>\n",
       "      <td>0.000076</td>\n",
       "      <td>0.000107</td>\n",
       "      <td>-0.000843</td>\n",
       "      <td>0.000183</td>\n",
       "      <td>0.000107</td>\n",
       "      <td>0.000094</td>\n",
       "      <td>-0.000856</td>\n",
       "      <td>0.00017</td>\n",
       "      <td>9.400884e-05</td>\n",
       "      <td>-0.000013</td>\n",
       "      <td>12.514451</td>\n",
       "      <td>1.712151e+13</td>\n",
       "      <td>0.000000</td>\n",
       "      <td>12.514451</td>\n",
       "      <td>7.882566</td>\n",
       "      <td>1.408878</td>\n",
       "      <td>4.610268</td>\n",
       "      <td>-1.927541e+12</td>\n",
       "      <td>7.882566</td>\n",
       "      <td>1.408878</td>\n",
       "      <td>9.111006</td>\n",
       "      <td>1.237706</td>\n",
       "      <td>5.039422</td>\n",
       "      <td>-1.693354e+12</td>\n",
       "      <td>9.111006</td>\n",
       "      <td>1.237706</td>\n",
       "      <td>0.138298</td>\n",
       "      <td>64.879580</td>\n",
       "      <td>0.076494</td>\n",
       "      <td>0.138298</td>\n",
       "      <td>0.004</td>\n",
       "      <td>0.004</td>\n",
       "      <td>0.0</td>\n",
       "      <td>0.0</td>\n",
       "      <td>0.0</td>\n",
       "      <td>680.648976</td>\n",
       "      <td>-107.068979</td>\n",
       "      <td>3.094966e-09</td>\n",
       "      <td>0</td>\n",
       "      <td>1.000000</td>\n",
       "      <td>0.000214</td>\n",
       "      <td>1.000170</td>\n",
       "      <td>4.157506e+06</td>\n",
       "      <td>0.000768</td>\n",
       "      <td>6.324881e+06</td>\n",
       "      <td>2.278791</td>\n",
       "      <td>1.695159</td>\n",
       "      <td>5.364051</td>\n",
       "      <td>2.775961</td>\n",
       "      <td>0.999618</td>\n",
       "      <td>13380276.64</td>\n",
       "      <td>0.394776</td>\n",
       "      <td>-0.789993</td>\n",
       "      <td>True</td>\n",
       "      <td>1.0</td>\n",
       "      <td>1.0</td>\n",
       "      <td>1.0</td>\n",
       "      <td>1.0</td>\n",
       "      <td>1.0</td>\n",
       "      <td>1.0</td>\n",
       "      <td>1.0</td>\n",
       "      <td>1.0</td>\n",
       "      <td>1.0</td>\n",
       "      <td>1.0</td>\n",
       "      <td>1.0</td>\n",
       "      <td>1.0</td>\n",
       "      <td>1.0</td>\n",
       "      <td>1.0</td>\n",
       "      <td>1.0</td>\n",
       "      <td>1.0</td>\n",
       "      <td>1.0</td>\n",
       "      <td>1.0</td>\n",
       "      <td>1.050224</td>\n",
       "      <td>1.000361</td>\n",
       "      <td>0.999812</td>\n",
       "      <td>4.255888</td>\n",
       "      <td>0.521599</td>\n",
       "      <td>1.0</td>\n",
       "      <td>1.0</td>\n",
       "      <td>1.0</td>\n",
       "      <td>1.000136</td>\n",
       "      <td>0.204188</td>\n",
       "      <td>0.931937</td>\n",
       "      <td>0.497382</td>\n",
       "      <td>0.685864</td>\n",
       "      <td>0.104712</td>\n",
       "      <td>0.005236</td>\n",
       "      <td>0.005236</td>\n",
       "      <td>0.005236</td>\n",
       "      <td>0.659686</td>\n",
       "    </tr>\n",
       "    <tr>\n",
       "      <th>1</th>\n",
       "      <td>1</td>\n",
       "      <td>0</td>\n",
       "      <td>0</td>\n",
       "      <td>166603.91</td>\n",
       "      <td>-1</td>\n",
       "      <td>0.999896</td>\n",
       "      <td>1642214.25</td>\n",
       "      <td>1.001713</td>\n",
       "      <td>0.99966</td>\n",
       "      <td>0.999896</td>\n",
       "      <td>3233.04</td>\n",
       "      <td>1.000660</td>\n",
       "      <td>20605.09</td>\n",
       "      <td>1.0</td>\n",
       "      <td>-5.519986</td>\n",
       "      <td>0</td>\n",
       "      <td>0_0_1</td>\n",
       "      <td>0</td>\n",
       "      <td>-0.1</td>\n",
       "      <td>0.0</td>\n",
       "      <td>0</td>\n",
       "      <td>1</td>\n",
       "      <td>0</td>\n",
       "      <td>23838.13</td>\n",
       "      <td>25548.50</td>\n",
       "      <td>0</td>\n",
       "      <td>0.101451</td>\n",
       "      <td>17372.05</td>\n",
       "      <td>1.000278</td>\n",
       "      <td>0.156905</td>\n",
       "      <td>0.000764</td>\n",
       "      <td>-0.728751</td>\n",
       "      <td>-0.815787</td>\n",
       "      <td>-0.000557</td>\n",
       "      <td>-0.000278</td>\n",
       "      <td>0.000908</td>\n",
       "      <td>-0.000118</td>\n",
       "      <td>-0.001026</td>\n",
       "      <td>0.000000</td>\n",
       "      <td>-0.000908</td>\n",
       "      <td>0.000118</td>\n",
       "      <td>0.000382</td>\n",
       "      <td>-0.000526</td>\n",
       "      <td>0.000500</td>\n",
       "      <td>0.000382</td>\n",
       "      <td>0.000052</td>\n",
       "      <td>-0.000856</td>\n",
       "      <td>0.00017</td>\n",
       "      <td>5.200270e-05</td>\n",
       "      <td>-0.000330</td>\n",
       "      <td>7.702060</td>\n",
       "      <td>-1.636490e+13</td>\n",
       "      <td>0.000000</td>\n",
       "      <td>7.702060</td>\n",
       "      <td>1.378101</td>\n",
       "      <td>3.238744</td>\n",
       "      <td>1.052981</td>\n",
       "      <td>-6.881500e+12</td>\n",
       "      <td>1.378101</td>\n",
       "      <td>3.238744</td>\n",
       "      <td>16.469894</td>\n",
       "      <td>0.440876</td>\n",
       "      <td>5.039422</td>\n",
       "      <td>9.367487e+11</td>\n",
       "      <td>16.469894</td>\n",
       "      <td>0.440876</td>\n",
       "      <td>6.346154</td>\n",
       "      <td>1.595256</td>\n",
       "      <td>1.941782</td>\n",
       "      <td>6.346154</td>\n",
       "      <td>0.001</td>\n",
       "      <td>0.001</td>\n",
       "      <td>0.0</td>\n",
       "      <td>0.0</td>\n",
       "      <td>0.0</td>\n",
       "      <td>127.285387</td>\n",
       "      <td>35.660702</td>\n",
       "      <td>3.204949e-08</td>\n",
       "      <td>0</td>\n",
       "      <td>1.000000</td>\n",
       "      <td>0.000764</td>\n",
       "      <td>1.000304</td>\n",
       "      <td>4.581641e+05</td>\n",
       "      <td>0.000768</td>\n",
       "      <td>7.927594e+05</td>\n",
       "      <td>1.593595</td>\n",
       "      <td>1.949990</td>\n",
       "      <td>2.167109</td>\n",
       "      <td>3.819817</td>\n",
       "      <td>0.999895</td>\n",
       "      <td>1642214.25</td>\n",
       "      <td>-1.366858</td>\n",
       "      <td>2.441783</td>\n",
       "      <td>True</td>\n",
       "      <td>1.0</td>\n",
       "      <td>1.0</td>\n",
       "      <td>1.0</td>\n",
       "      <td>1.0</td>\n",
       "      <td>1.0</td>\n",
       "      <td>1.0</td>\n",
       "      <td>1.0</td>\n",
       "      <td>1.0</td>\n",
       "      <td>1.0</td>\n",
       "      <td>1.0</td>\n",
       "      <td>1.0</td>\n",
       "      <td>1.0</td>\n",
       "      <td>1.0</td>\n",
       "      <td>1.0</td>\n",
       "      <td>1.0</td>\n",
       "      <td>1.0</td>\n",
       "      <td>1.0</td>\n",
       "      <td>1.0</td>\n",
       "      <td>8.556917</td>\n",
       "      <td>0.999727</td>\n",
       "      <td>0.999728</td>\n",
       "      <td>1.754197</td>\n",
       "      <td>9.785149</td>\n",
       "      <td>1.0</td>\n",
       "      <td>1.0</td>\n",
       "      <td>1.0</td>\n",
       "      <td>1.000052</td>\n",
       "      <td>0.874346</td>\n",
       "      <td>0.183246</td>\n",
       "      <td>0.272251</td>\n",
       "      <td>0.439791</td>\n",
       "      <td>0.827225</td>\n",
       "      <td>0.010471</td>\n",
       "      <td>0.010471</td>\n",
       "      <td>0.010471</td>\n",
       "      <td>0.554974</td>\n",
       "    </tr>\n",
       "    <tr>\n",
       "      <th>2</th>\n",
       "      <td>2</td>\n",
       "      <td>0</td>\n",
       "      <td>0</td>\n",
       "      <td>302879.87</td>\n",
       "      <td>-1</td>\n",
       "      <td>0.999561</td>\n",
       "      <td>1819368.03</td>\n",
       "      <td>1.001713</td>\n",
       "      <td>0.99966</td>\n",
       "      <td>0.999403</td>\n",
       "      <td>37956.00</td>\n",
       "      <td>1.000298</td>\n",
       "      <td>18995.00</td>\n",
       "      <td>1.0</td>\n",
       "      <td>-8.389950</td>\n",
       "      <td>0</td>\n",
       "      <td>0_0_2</td>\n",
       "      <td>0</td>\n",
       "      <td>-0.1</td>\n",
       "      <td>0.0</td>\n",
       "      <td>0</td>\n",
       "      <td>1</td>\n",
       "      <td>0</td>\n",
       "      <td>56951.00</td>\n",
       "      <td>26228.10</td>\n",
       "      <td>1</td>\n",
       "      <td>0.166475</td>\n",
       "      <td>-18961.00</td>\n",
       "      <td>0.999850</td>\n",
       "      <td>1.998210</td>\n",
       "      <td>0.000895</td>\n",
       "      <td>0.332935</td>\n",
       "      <td>-0.714567</td>\n",
       "      <td>0.000298</td>\n",
       "      <td>0.000149</td>\n",
       "      <td>0.001075</td>\n",
       "      <td>0.000050</td>\n",
       "      <td>-0.001026</td>\n",
       "      <td>-0.000079</td>\n",
       "      <td>-0.001154</td>\n",
       "      <td>-0.000129</td>\n",
       "      <td>0.000369</td>\n",
       "      <td>-0.000707</td>\n",
       "      <td>0.000319</td>\n",
       "      <td>0.000448</td>\n",
       "      <td>0.000220</td>\n",
       "      <td>-0.000856</td>\n",
       "      <td>0.00017</td>\n",
       "      <td>2.985891e-04</td>\n",
       "      <td>-0.000149</td>\n",
       "      <td>20.712788</td>\n",
       "      <td>1.361942e+01</td>\n",
       "      <td>0.627254</td>\n",
       "      <td>7.984109</td>\n",
       "      <td>1.919768</td>\n",
       "      <td>6.436477</td>\n",
       "      <td>2.218032</td>\n",
       "      <td>4.664557e+00</td>\n",
       "      <td>1.580859</td>\n",
       "      <td>2.481054</td>\n",
       "      <td>3.901752</td>\n",
       "      <td>3.429598</td>\n",
       "      <td>5.039422</td>\n",
       "      <td>2.778481e+00</td>\n",
       "      <td>2.869127</td>\n",
       "      <td>1.321999</td>\n",
       "      <td>0.678816</td>\n",
       "      <td>4.747883</td>\n",
       "      <td>0.876744</td>\n",
       "      <td>0.499162</td>\n",
       "      <td>0.002</td>\n",
       "      <td>0.002</td>\n",
       "      <td>0.0</td>\n",
       "      <td>0.0</td>\n",
       "      <td>0.0</td>\n",
       "      <td>271.077484</td>\n",
       "      <td>-38.922440</td>\n",
       "      <td>1.571526e-08</td>\n",
       "      <td>0</td>\n",
       "      <td>0.999999</td>\n",
       "      <td>0.000895</td>\n",
       "      <td>1.000106</td>\n",
       "      <td>5.447997e+05</td>\n",
       "      <td>0.000851</td>\n",
       "      <td>8.595368e+05</td>\n",
       "      <td>1.732924</td>\n",
       "      <td>1.869559</td>\n",
       "      <td>3.154185</td>\n",
       "      <td>3.507308</td>\n",
       "      <td>0.999898</td>\n",
       "      <td>1819368.03</td>\n",
       "      <td>0.111690</td>\n",
       "      <td>-0.407338</td>\n",
       "      <td>True</td>\n",
       "      <td>1.0</td>\n",
       "      <td>1.0</td>\n",
       "      <td>1.0</td>\n",
       "      <td>1.0</td>\n",
       "      <td>1.0</td>\n",
       "      <td>1.0</td>\n",
       "      <td>1.0</td>\n",
       "      <td>1.0</td>\n",
       "      <td>1.0</td>\n",
       "      <td>1.0</td>\n",
       "      <td>1.0</td>\n",
       "      <td>1.0</td>\n",
       "      <td>1.0</td>\n",
       "      <td>1.0</td>\n",
       "      <td>1.0</td>\n",
       "      <td>1.0</td>\n",
       "      <td>1.0</td>\n",
       "      <td>1.0</td>\n",
       "      <td>7.723721</td>\n",
       "      <td>1.000089</td>\n",
       "      <td>1.000222</td>\n",
       "      <td>1.902889</td>\n",
       "      <td>0.833486</td>\n",
       "      <td>1.0</td>\n",
       "      <td>1.0</td>\n",
       "      <td>1.0</td>\n",
       "      <td>1.000387</td>\n",
       "      <td>0.821990</td>\n",
       "      <td>0.434555</td>\n",
       "      <td>0.795812</td>\n",
       "      <td>0.455497</td>\n",
       "      <td>0.225131</td>\n",
       "      <td>0.015707</td>\n",
       "      <td>0.015707</td>\n",
       "      <td>0.015707</td>\n",
       "      <td>0.811518</td>\n",
       "    </tr>\n",
       "    <tr>\n",
       "      <th>3</th>\n",
       "      <td>3</td>\n",
       "      <td>0</td>\n",
       "      <td>0</td>\n",
       "      <td>11917682.27</td>\n",
       "      <td>-1</td>\n",
       "      <td>1.000171</td>\n",
       "      <td>18389745.62</td>\n",
       "      <td>1.001713</td>\n",
       "      <td>0.99966</td>\n",
       "      <td>0.999999</td>\n",
       "      <td>2324.90</td>\n",
       "      <td>1.000214</td>\n",
       "      <td>479032.40</td>\n",
       "      <td>1.0</td>\n",
       "      <td>-4.010200</td>\n",
       "      <td>0</td>\n",
       "      <td>0_0_3</td>\n",
       "      <td>0</td>\n",
       "      <td>-0.1</td>\n",
       "      <td>0.0</td>\n",
       "      <td>0</td>\n",
       "      <td>1</td>\n",
       "      <td>0</td>\n",
       "      <td>481357.30</td>\n",
       "      <td>41667.00</td>\n",
       "      <td>1</td>\n",
       "      <td>0.648061</td>\n",
       "      <td>476707.50</td>\n",
       "      <td>1.000107</td>\n",
       "      <td>0.004853</td>\n",
       "      <td>0.000215</td>\n",
       "      <td>-0.990340</td>\n",
       "      <td>-0.213547</td>\n",
       "      <td>-0.000213</td>\n",
       "      <td>-0.000106</td>\n",
       "      <td>0.000770</td>\n",
       "      <td>-0.000255</td>\n",
       "      <td>-0.001026</td>\n",
       "      <td>-0.000086</td>\n",
       "      <td>-0.000856</td>\n",
       "      <td>0.000169</td>\n",
       "      <td>0.000021</td>\n",
       "      <td>-0.000749</td>\n",
       "      <td>0.000277</td>\n",
       "      <td>0.000107</td>\n",
       "      <td>-0.000085</td>\n",
       "      <td>-0.000856</td>\n",
       "      <td>0.00017</td>\n",
       "      <td>5.000003e-07</td>\n",
       "      <td>-0.000107</td>\n",
       "      <td>3.017983</td>\n",
       "      <td>8.964355e+00</td>\n",
       "      <td>0.507533</td>\n",
       "      <td>5.057243</td>\n",
       "      <td>34.857420</td>\n",
       "      <td>0.084166</td>\n",
       "      <td>2.706058</td>\n",
       "      <td>2.500000e-01</td>\n",
       "      <td>6.971484</td>\n",
       "      <td>0.634417</td>\n",
       "      <td>9.016778</td>\n",
       "      <td>0.503098</td>\n",
       "      <td>5.039422</td>\n",
       "      <td>1.710000e+02</td>\n",
       "      <td>1712.869100</td>\n",
       "      <td>0.002951</td>\n",
       "      <td>0.251462</td>\n",
       "      <td>7.004061</td>\n",
       "      <td>0.629608</td>\n",
       "      <td>214.000000</td>\n",
       "      <td>0.006</td>\n",
       "      <td>0.006</td>\n",
       "      <td>0.0</td>\n",
       "      <td>0.0</td>\n",
       "      <td>0.0</td>\n",
       "      <td>2562.301688</td>\n",
       "      <td>978.567534</td>\n",
       "      <td>4.466537e-10</td>\n",
       "      <td>0</td>\n",
       "      <td>1.000000</td>\n",
       "      <td>0.000215</td>\n",
       "      <td>1.000293</td>\n",
       "      <td>7.697196e+06</td>\n",
       "      <td>0.000722</td>\n",
       "      <td>9.008441e+06</td>\n",
       "      <td>2.034344</td>\n",
       "      <td>0.424923</td>\n",
       "      <td>4.646714</td>\n",
       "      <td>-3.574718</td>\n",
       "      <td>0.999510</td>\n",
       "      <td>18389745.62</td>\n",
       "      <td>0.816181</td>\n",
       "      <td>-0.059498</td>\n",
       "      <td>True</td>\n",
       "      <td>1.0</td>\n",
       "      <td>1.0</td>\n",
       "      <td>1.0</td>\n",
       "      <td>1.0</td>\n",
       "      <td>1.0</td>\n",
       "      <td>1.0</td>\n",
       "      <td>1.0</td>\n",
       "      <td>1.0</td>\n",
       "      <td>1.0</td>\n",
       "      <td>1.0</td>\n",
       "      <td>1.0</td>\n",
       "      <td>1.0</td>\n",
       "      <td>1.0</td>\n",
       "      <td>1.0</td>\n",
       "      <td>1.0</td>\n",
       "      <td>1.0</td>\n",
       "      <td>1.0</td>\n",
       "      <td>1.0</td>\n",
       "      <td>0.764137</td>\n",
       "      <td>1.000173</td>\n",
       "      <td>0.999625</td>\n",
       "      <td>0.075455</td>\n",
       "      <td>13.607370</td>\n",
       "      <td>1.0</td>\n",
       "      <td>1.0</td>\n",
       "      <td>1.0</td>\n",
       "      <td>0.999777</td>\n",
       "      <td>0.151832</td>\n",
       "      <td>0.560209</td>\n",
       "      <td>0.005236</td>\n",
       "      <td>0.010471</td>\n",
       "      <td>0.874346</td>\n",
       "      <td>0.020942</td>\n",
       "      <td>0.020942</td>\n",
       "      <td>0.020942</td>\n",
       "      <td>0.287958</td>\n",
       "    </tr>\n",
       "    <tr>\n",
       "      <th>4</th>\n",
       "      <td>4</td>\n",
       "      <td>0</td>\n",
       "      <td>0</td>\n",
       "      <td>447549.96</td>\n",
       "      <td>-1</td>\n",
       "      <td>0.999532</td>\n",
       "      <td>17860614.95</td>\n",
       "      <td>1.001713</td>\n",
       "      <td>0.99966</td>\n",
       "      <td>0.999394</td>\n",
       "      <td>16485.54</td>\n",
       "      <td>1.000016</td>\n",
       "      <td>434.10</td>\n",
       "      <td>1.0</td>\n",
       "      <td>-7.349849</td>\n",
       "      <td>0</td>\n",
       "      <td>0_0_4</td>\n",
       "      <td>0</td>\n",
       "      <td>-0.1</td>\n",
       "      <td>0.0</td>\n",
       "      <td>0</td>\n",
       "      <td>1</td>\n",
       "      <td>0</td>\n",
       "      <td>16919.64</td>\n",
       "      <td>34014.58</td>\n",
       "      <td>0</td>\n",
       "      <td>0.025058</td>\n",
       "      <td>-16051.44</td>\n",
       "      <td>0.999705</td>\n",
       "      <td>37.976365</td>\n",
       "      <td>0.000622</td>\n",
       "      <td>0.948687</td>\n",
       "      <td>-0.951109</td>\n",
       "      <td>0.000590</td>\n",
       "      <td>0.000295</td>\n",
       "      <td>0.001090</td>\n",
       "      <td>0.000064</td>\n",
       "      <td>-0.001026</td>\n",
       "      <td>-0.000069</td>\n",
       "      <td>-0.001159</td>\n",
       "      <td>-0.000133</td>\n",
       "      <td>0.000242</td>\n",
       "      <td>-0.000848</td>\n",
       "      <td>0.000178</td>\n",
       "      <td>0.000311</td>\n",
       "      <td>0.000234</td>\n",
       "      <td>-0.000856</td>\n",
       "      <td>0.00017</td>\n",
       "      <td>3.030918e-04</td>\n",
       "      <td>-0.000008</td>\n",
       "      <td>16.023933</td>\n",
       "      <td>1.580340e+01</td>\n",
       "      <td>0.928305</td>\n",
       "      <td>7.714078</td>\n",
       "      <td>3.505928</td>\n",
       "      <td>2.778119</td>\n",
       "      <td>4.767907</td>\n",
       "      <td>3.507246e+00</td>\n",
       "      <td>2.728085</td>\n",
       "      <td>1.337414</td>\n",
       "      <td>3.659977</td>\n",
       "      <td>2.653223</td>\n",
       "      <td>5.039422</td>\n",
       "      <td>3.391304e+00</td>\n",
       "      <td>2.826517</td>\n",
       "      <td>1.277287</td>\n",
       "      <td>0.034188</td>\n",
       "      <td>106.054320</td>\n",
       "      <td>0.047074</td>\n",
       "      <td>0.026403</td>\n",
       "      <td>0.004</td>\n",
       "      <td>0.004</td>\n",
       "      <td>0.0</td>\n",
       "      <td>0.0</td>\n",
       "      <td>0.0</td>\n",
       "      <td>278.376075</td>\n",
       "      <td>-32.949803</td>\n",
       "      <td>3.676201e-08</td>\n",
       "      <td>0</td>\n",
       "      <td>1.000000</td>\n",
       "      <td>0.000622</td>\n",
       "      <td>1.000052</td>\n",
       "      <td>4.581271e+06</td>\n",
       "      <td>0.000851</td>\n",
       "      <td>8.855318e+06</td>\n",
       "      <td>1.992340</td>\n",
       "      <td>1.996737</td>\n",
       "      <td>4.283578</td>\n",
       "      <td>3.988887</td>\n",
       "      <td>0.999228</td>\n",
       "      <td>17860614.95</td>\n",
       "      <td>-0.070347</td>\n",
       "      <td>-1.111443</td>\n",
       "      <td>True</td>\n",
       "      <td>1.0</td>\n",
       "      <td>1.0</td>\n",
       "      <td>1.0</td>\n",
       "      <td>1.0</td>\n",
       "      <td>1.0</td>\n",
       "      <td>1.0</td>\n",
       "      <td>1.0</td>\n",
       "      <td>1.0</td>\n",
       "      <td>1.0</td>\n",
       "      <td>1.0</td>\n",
       "      <td>1.0</td>\n",
       "      <td>1.0</td>\n",
       "      <td>1.0</td>\n",
       "      <td>1.0</td>\n",
       "      <td>1.0</td>\n",
       "      <td>1.0</td>\n",
       "      <td>1.0</td>\n",
       "      <td>1.0</td>\n",
       "      <td>0.786775</td>\n",
       "      <td>1.000371</td>\n",
       "      <td>1.000230</td>\n",
       "      <td>83.265114</td>\n",
       "      <td>1.919002</td>\n",
       "      <td>1.0</td>\n",
       "      <td>1.0</td>\n",
       "      <td>1.0</td>\n",
       "      <td>1.000416</td>\n",
       "      <td>0.162304</td>\n",
       "      <td>0.958115</td>\n",
       "      <td>0.806283</td>\n",
       "      <td>0.958115</td>\n",
       "      <td>0.445026</td>\n",
       "      <td>0.026178</td>\n",
       "      <td>0.026178</td>\n",
       "      <td>0.026178</td>\n",
       "      <td>0.842932</td>\n",
       "    </tr>\n",
       "  </tbody>\n",
       "</table>\n",
       "</div>"
      ],
      "text/plain": [
       "   stock_id  date_id  seconds_in_bucket  imbalance_size  \\\n",
       "0         0        0                  0      3180602.69   \n",
       "1         1        0                  0       166603.91   \n",
       "2         2        0                  0       302879.87   \n",
       "3         3        0                  0     11917682.27   \n",
       "4         4        0                  0       447549.96   \n",
       "\n",
       "   imbalance_buy_sell_flag  reference_price  matched_size  far_price  \\\n",
       "0                        1         0.999812   13380276.64   1.001713   \n",
       "1                       -1         0.999896    1642214.25   1.001713   \n",
       "2                       -1         0.999561    1819368.03   1.001713   \n",
       "3                       -1         1.000171   18389745.62   1.001713   \n",
       "4                       -1         0.999532   17860614.95   1.001713   \n",
       "\n",
       "   near_price  bid_price  bid_size  ask_price   ask_size  wap    target  \\\n",
       "0     0.99966   0.999812  60651.50   1.000026    8493.03  1.0 -3.029704   \n",
       "1     0.99966   0.999896   3233.04   1.000660   20605.09  1.0 -5.519986   \n",
       "2     0.99966   0.999403  37956.00   1.000298   18995.00  1.0 -8.389950   \n",
       "3     0.99966   0.999999   2324.90   1.000214  479032.40  1.0 -4.010200   \n",
       "4     0.99966   0.999394  16485.54   1.000016     434.10  1.0 -7.349849   \n",
       "\n",
       "   time_id row_id  baseline_prediction  simple_prediction  \\\n",
       "0        0  0_0_0                    0                0.1   \n",
       "1        0  0_0_1                    0               -0.1   \n",
       "2        0  0_0_2                    0               -0.1   \n",
       "3        0  0_0_3                    0               -0.1   \n",
       "4        0  0_0_4                    0               -0.1   \n",
       "\n",
       "   seconds_in_bucket_group  imbalance_buy_flag  imbalance_sell_flag  \\\n",
       "0                      0.0                   1                    0   \n",
       "1                      0.0                   0                    1   \n",
       "2                      0.0                   0                    1   \n",
       "3                      0.0                   0                    1   \n",
       "4                      0.0                   0                    1   \n",
       "\n",
       "   no_imbalance  bid_plus_ask_sizes  median_vol  high_volume  imbalance_ratio  \\\n",
       "0             0            69144.53    42739.16            1         0.237708   \n",
       "1             0            23838.13    25548.50            0         0.101451   \n",
       "2             0            56951.00    26228.10            1         0.166475   \n",
       "3             0           481357.30    41667.00            1         0.648061   \n",
       "4             0            16919.64    34014.58            0         0.025058   \n",
       "\n",
       "   bid_ask_volume_diff  mid_price  size_imbalance  price_spread  \\\n",
       "0            -52158.47   0.999919        7.141326      0.000214   \n",
       "1             17372.05   1.000278        0.156905      0.000764   \n",
       "2            -18961.00   0.999850        1.998210      0.000895   \n",
       "3            476707.50   1.000107        0.004853      0.000215   \n",
       "4            -16051.44   0.999705       37.976365      0.000622   \n",
       "\n",
       "   liquidity_imbalance  matched_imbalance  market_urgency  market_urgency_v2  \\\n",
       "0             0.754340          -0.615890        0.000161           0.000081   \n",
       "1            -0.728751          -0.815787       -0.000557          -0.000278   \n",
       "2             0.332935          -0.714567        0.000298           0.000149   \n",
       "3            -0.990340          -0.213547       -0.000213          -0.000106   \n",
       "4             0.948687          -0.951109        0.000590           0.000295   \n",
       "\n",
       "   far_price_reference_price_imb  near_price_reference_price_imb  \\\n",
       "0                       0.000950                       -0.000076   \n",
       "1                       0.000908                       -0.000118   \n",
       "2                       0.001075                        0.000050   \n",
       "3                       0.000770                       -0.000255   \n",
       "4                       0.001090                        0.000064   \n",
       "\n",
       "   near_price_far_price_imb  bid_price_reference_price_imb  \\\n",
       "0                 -0.001026                       0.000000   \n",
       "1                 -0.001026                       0.000000   \n",
       "2                 -0.001026                      -0.000079   \n",
       "3                 -0.001026                      -0.000086   \n",
       "4                 -0.001026                      -0.000069   \n",
       "\n",
       "   bid_price_far_price_imb  bid_price_near_price_imb  \\\n",
       "0                -0.000950                  0.000076   \n",
       "1                -0.000908                  0.000118   \n",
       "2                -0.001154                 -0.000129   \n",
       "3                -0.000856                  0.000169   \n",
       "4                -0.001159                 -0.000133   \n",
       "\n",
       "   ask_price_reference_price_imb  ask_price_far_price_imb  \\\n",
       "0                       0.000107                -0.000843   \n",
       "1                       0.000382                -0.000526   \n",
       "2                       0.000369                -0.000707   \n",
       "3                       0.000021                -0.000749   \n",
       "4                       0.000242                -0.000848   \n",
       "\n",
       "   ask_price_near_price_imb  ask_price_bid_price_imb  wap_reference_price_imb  \\\n",
       "0                  0.000183                 0.000107                 0.000094   \n",
       "1                  0.000500                 0.000382                 0.000052   \n",
       "2                  0.000319                 0.000448                 0.000220   \n",
       "3                  0.000277                 0.000107                -0.000085   \n",
       "4                  0.000178                 0.000311                 0.000234   \n",
       "\n",
       "   wap_far_price_imb  wap_near_price_imb  wap_bid_price_imb  \\\n",
       "0          -0.000856             0.00017       9.400884e-05   \n",
       "1          -0.000856             0.00017       5.200270e-05   \n",
       "2          -0.000856             0.00017       2.985891e-04   \n",
       "3          -0.000856             0.00017       5.000003e-07   \n",
       "4          -0.000856             0.00017       3.030918e-04   \n",
       "\n",
       "   wap_ask_price_imb  near_price_far_price_reference_price_imb2  \\\n",
       "0          -0.000013                                  12.514451   \n",
       "1          -0.000330                                   7.702060   \n",
       "2          -0.000149                                  20.712788   \n",
       "3          -0.000107                                   3.017983   \n",
       "4          -0.000008                                  16.023933   \n",
       "\n",
       "   bid_price_far_price_reference_price_imb2  \\\n",
       "0                              1.712151e+13   \n",
       "1                             -1.636490e+13   \n",
       "2                              1.361942e+01   \n",
       "3                              8.964355e+00   \n",
       "4                              1.580340e+01   \n",
       "\n",
       "   bid_price_near_price_reference_price_imb2  \\\n",
       "0                                   0.000000   \n",
       "1                                   0.000000   \n",
       "2                                   0.627254   \n",
       "3                                   0.507533   \n",
       "4                                   0.928305   \n",
       "\n",
       "   bid_price_near_price_far_price_imb2  \\\n",
       "0                            12.514451   \n",
       "1                             7.702060   \n",
       "2                             7.984109   \n",
       "3                             5.057243   \n",
       "4                             7.714078   \n",
       "\n",
       "   ask_price_far_price_reference_price_imb2  \\\n",
       "0                                  7.882566   \n",
       "1                                  1.378101   \n",
       "2                                  1.919768   \n",
       "3                                 34.857420   \n",
       "4                                  3.505928   \n",
       "\n",
       "   ask_price_near_price_reference_price_imb2  \\\n",
       "0                                   1.408878   \n",
       "1                                   3.238744   \n",
       "2                                   6.436477   \n",
       "3                                   0.084166   \n",
       "4                                   2.778119   \n",
       "\n",
       "   ask_price_near_price_far_price_imb2  \\\n",
       "0                             4.610268   \n",
       "1                             1.052981   \n",
       "2                             2.218032   \n",
       "3                             2.706058   \n",
       "4                             4.767907   \n",
       "\n",
       "   ask_price_bid_price_reference_price_imb2  \\\n",
       "0                             -1.927541e+12   \n",
       "1                             -6.881500e+12   \n",
       "2                              4.664557e+00   \n",
       "3                              2.500000e-01   \n",
       "4                              3.507246e+00   \n",
       "\n",
       "   ask_price_bid_price_far_price_imb2  ask_price_bid_price_near_price_imb2  \\\n",
       "0                            7.882566                             1.408878   \n",
       "1                            1.378101                             3.238744   \n",
       "2                            1.580859                             2.481054   \n",
       "3                            6.971484                             0.634417   \n",
       "4                            2.728085                             1.337414   \n",
       "\n",
       "   wap_far_price_reference_price_imb2  wap_near_price_reference_price_imb2  \\\n",
       "0                            9.111006                             1.237706   \n",
       "1                           16.469894                             0.440876   \n",
       "2                            3.901752                             3.429598   \n",
       "3                            9.016778                             0.503098   \n",
       "4                            3.659977                             2.653223   \n",
       "\n",
       "   wap_near_price_far_price_imb2  wap_bid_price_reference_price_imb2  \\\n",
       "0                       5.039422                       -1.693354e+12   \n",
       "1                       5.039422                        9.367487e+11   \n",
       "2                       5.039422                        2.778481e+00   \n",
       "3                       5.039422                        1.710000e+02   \n",
       "4                       5.039422                        3.391304e+00   \n",
       "\n",
       "   wap_bid_price_far_price_imb2  wap_bid_price_near_price_imb2  \\\n",
       "0                      9.111006                       1.237706   \n",
       "1                     16.469894                       0.440876   \n",
       "2                      2.869127                       1.321999   \n",
       "3                   1712.869100                       0.002951   \n",
       "4                      2.826517                       1.277287   \n",
       "\n",
       "   wap_ask_price_reference_price_imb2  wap_ask_price_far_price_imb2  \\\n",
       "0                            0.138298                     64.879580   \n",
       "1                            6.346154                      1.595256   \n",
       "2                            0.678816                      4.747883   \n",
       "3                            0.251462                      7.004061   \n",
       "4                            0.034188                    106.054320   \n",
       "\n",
       "   wap_ask_price_near_price_imb2  wap_ask_price_bid_price_imb2  stock_weights  \\\n",
       "0                       0.076494                      0.138298          0.004   \n",
       "1                       1.941782                      6.346154          0.001   \n",
       "2                       0.876744                      0.499162          0.002   \n",
       "3                       0.629608                    214.000000          0.006   \n",
       "4                       0.047074                      0.026403          0.004   \n",
       "\n",
       "   weighted_wap  wap_momentum  imbalance_momentum  spread_intensity  \\\n",
       "0         0.004           0.0                 0.0               0.0   \n",
       "1         0.001           0.0                 0.0               0.0   \n",
       "2         0.002           0.0                 0.0               0.0   \n",
       "3         0.006           0.0                 0.0               0.0   \n",
       "4         0.004           0.0                 0.0               0.0   \n",
       "\n",
       "   price_pressure  depth_pressure  spread_depth_ratio  mid_price_movement  \\\n",
       "0      680.648976     -107.068979        3.094966e-09                   0   \n",
       "1      127.285387       35.660702        3.204949e-08                   0   \n",
       "2      271.077484      -38.922440        1.571526e-08                   0   \n",
       "3     2562.301688      978.567534        4.466537e-10                   0   \n",
       "4      278.376075      -32.949803        3.676201e-08                   0   \n",
       "\n",
       "   micro_price  relative_spread  all_prices_mean  all_sizes_mean  \\\n",
       "0     1.000000         0.000214         1.000170    4.157506e+06   \n",
       "1     1.000000         0.000764         1.000304    4.581641e+05   \n",
       "2     0.999999         0.000895         1.000106    5.447997e+05   \n",
       "3     1.000000         0.000215         1.000293    7.697196e+06   \n",
       "4     1.000000         0.000622         1.000052    4.581271e+06   \n",
       "\n",
       "   all_prices_std  all_sizes_std  all_prices_skew  all_sizes_skew  \\\n",
       "0        0.000768   6.324881e+06         2.278791        1.695159   \n",
       "1        0.000768   7.927594e+05         1.593595        1.949990   \n",
       "2        0.000851   8.595368e+05         1.732924        1.869559   \n",
       "3        0.000722   9.008441e+06         2.034344        0.424923   \n",
       "4        0.000851   8.855318e+06         1.992340        1.996737   \n",
       "\n",
       "   all_prices_kurt  all_sizes_kurt      vwap  rolling_mean_matched_size  \\\n",
       "0         5.364051        2.775961  0.999618                13380276.64   \n",
       "1         2.167109        3.819817  0.999895                 1642214.25   \n",
       "2         3.154185        3.507308  0.999898                 1819368.03   \n",
       "3         4.646714       -3.574718  0.999510                18389745.62   \n",
       "4         4.283578        3.988887  0.999228                17860614.95   \n",
       "\n",
       "   wap_skewness  wap_kurtosis  is_high_volume  matched_size_group_first_ratio  \\\n",
       "0      0.394776     -0.789993            True                             1.0   \n",
       "1     -1.366858      2.441783            True                             1.0   \n",
       "2      0.111690     -0.407338            True                             1.0   \n",
       "3      0.816181     -0.059498            True                             1.0   \n",
       "4     -0.070347     -1.111443            True                             1.0   \n",
       "\n",
       "   ask_price_group_first_ratio  bid_price_group_first_ratio  \\\n",
       "0                          1.0                          1.0   \n",
       "1                          1.0                          1.0   \n",
       "2                          1.0                          1.0   \n",
       "3                          1.0                          1.0   \n",
       "4                          1.0                          1.0   \n",
       "\n",
       "   ask_size_group_first_ratio  bid_size_group_first_ratio  \\\n",
       "0                         1.0                         1.0   \n",
       "1                         1.0                         1.0   \n",
       "2                         1.0                         1.0   \n",
       "3                         1.0                         1.0   \n",
       "4                         1.0                         1.0   \n",
       "\n",
       "   wap_group_first_ratio  near_price_group_first_ratio  \\\n",
       "0                    1.0                           1.0   \n",
       "1                    1.0                           1.0   \n",
       "2                    1.0                           1.0   \n",
       "3                    1.0                           1.0   \n",
       "4                    1.0                           1.0   \n",
       "\n",
       "   far_price_group_first_ratio  reference_price_group_first_ratio  \\\n",
       "0                          1.0                                1.0   \n",
       "1                          1.0                                1.0   \n",
       "2                          1.0                                1.0   \n",
       "3                          1.0                                1.0   \n",
       "4                          1.0                                1.0   \n",
       "\n",
       "   matched_size_group_expanding_mean100  ask_price_group_expanding_mean100  \\\n",
       "0                                   1.0                                1.0   \n",
       "1                                   1.0                                1.0   \n",
       "2                                   1.0                                1.0   \n",
       "3                                   1.0                                1.0   \n",
       "4                                   1.0                                1.0   \n",
       "\n",
       "   bid_price_group_expanding_mean100  ask_size_group_expanding_mean100  \\\n",
       "0                                1.0                               1.0   \n",
       "1                                1.0                               1.0   \n",
       "2                                1.0                               1.0   \n",
       "3                                1.0                               1.0   \n",
       "4                                1.0                               1.0   \n",
       "\n",
       "   bid_size_group_expanding_mean100  wap_group_expanding_mean100  \\\n",
       "0                               1.0                          1.0   \n",
       "1                               1.0                          1.0   \n",
       "2                               1.0                          1.0   \n",
       "3                               1.0                          1.0   \n",
       "4                               1.0                          1.0   \n",
       "\n",
       "   near_price_group_expanding_mean100  far_price_group_expanding_mean100  \\\n",
       "0                                 1.0                                1.0   \n",
       "1                                 1.0                                1.0   \n",
       "2                                 1.0                                1.0   \n",
       "3                                 1.0                                1.0   \n",
       "4                                 1.0                                1.0   \n",
       "\n",
       "   reference_price_group_expanding_mean100  \\\n",
       "0                                      1.0   \n",
       "1                                      1.0   \n",
       "2                                      1.0   \n",
       "3                                      1.0   \n",
       "4                                      1.0   \n",
       "\n",
       "   matched_size_seconds_in_bucket_group_mean_ratio  \\\n",
       "0                                         1.050224   \n",
       "1                                         8.556917   \n",
       "2                                         7.723721   \n",
       "3                                         0.764137   \n",
       "4                                         0.786775   \n",
       "\n",
       "   ask_price_seconds_in_bucket_group_mean_ratio  \\\n",
       "0                                      1.000361   \n",
       "1                                      0.999727   \n",
       "2                                      1.000089   \n",
       "3                                      1.000173   \n",
       "4                                      1.000371   \n",
       "\n",
       "   bid_price_seconds_in_bucket_group_mean_ratio  \\\n",
       "0                                      0.999812   \n",
       "1                                      0.999728   \n",
       "2                                      1.000222   \n",
       "3                                      0.999625   \n",
       "4                                      1.000230   \n",
       "\n",
       "   ask_size_seconds_in_bucket_group_mean_ratio  \\\n",
       "0                                     4.255888   \n",
       "1                                     1.754197   \n",
       "2                                     1.902889   \n",
       "3                                     0.075455   \n",
       "4                                    83.265114   \n",
       "\n",
       "   bid_size_seconds_in_bucket_group_mean_ratio  \\\n",
       "0                                     0.521599   \n",
       "1                                     9.785149   \n",
       "2                                     0.833486   \n",
       "3                                    13.607370   \n",
       "4                                     1.919002   \n",
       "\n",
       "   wap_seconds_in_bucket_group_mean_ratio  \\\n",
       "0                                     1.0   \n",
       "1                                     1.0   \n",
       "2                                     1.0   \n",
       "3                                     1.0   \n",
       "4                                     1.0   \n",
       "\n",
       "   near_price_seconds_in_bucket_group_mean_ratio  \\\n",
       "0                                            1.0   \n",
       "1                                            1.0   \n",
       "2                                            1.0   \n",
       "3                                            1.0   \n",
       "4                                            1.0   \n",
       "\n",
       "   far_price_seconds_in_bucket_group_mean_ratio  \\\n",
       "0                                           1.0   \n",
       "1                                           1.0   \n",
       "2                                           1.0   \n",
       "3                                           1.0   \n",
       "4                                           1.0   \n",
       "\n",
       "   reference_price_seconds_in_bucket_group_mean_ratio  \\\n",
       "0                                           1.000136    \n",
       "1                                           1.000052    \n",
       "2                                           1.000387    \n",
       "3                                           0.999777    \n",
       "4                                           1.000416    \n",
       "\n",
       "   matched_size_seconds_in_bucket_group_rank  \\\n",
       "0                                   0.204188   \n",
       "1                                   0.874346   \n",
       "2                                   0.821990   \n",
       "3                                   0.151832   \n",
       "4                                   0.162304   \n",
       "\n",
       "   ask_price_seconds_in_bucket_group_rank  \\\n",
       "0                                0.931937   \n",
       "1                                0.183246   \n",
       "2                                0.434555   \n",
       "3                                0.560209   \n",
       "4                                0.958115   \n",
       "\n",
       "   bid_price_seconds_in_bucket_group_rank  \\\n",
       "0                                0.497382   \n",
       "1                                0.272251   \n",
       "2                                0.795812   \n",
       "3                                0.005236   \n",
       "4                                0.806283   \n",
       "\n",
       "   ask_size_seconds_in_bucket_group_rank  \\\n",
       "0                               0.685864   \n",
       "1                               0.439791   \n",
       "2                               0.455497   \n",
       "3                               0.010471   \n",
       "4                               0.958115   \n",
       "\n",
       "   bid_size_seconds_in_bucket_group_rank  wap_seconds_in_bucket_group_rank  \\\n",
       "0                               0.104712                          0.005236   \n",
       "1                               0.827225                          0.010471   \n",
       "2                               0.225131                          0.015707   \n",
       "3                               0.874346                          0.020942   \n",
       "4                               0.445026                          0.026178   \n",
       "\n",
       "   near_price_seconds_in_bucket_group_rank  \\\n",
       "0                                 0.005236   \n",
       "1                                 0.010471   \n",
       "2                                 0.015707   \n",
       "3                                 0.020942   \n",
       "4                                 0.026178   \n",
       "\n",
       "   far_price_seconds_in_bucket_group_rank  \\\n",
       "0                                0.005236   \n",
       "1                                0.010471   \n",
       "2                                0.015707   \n",
       "3                                0.020942   \n",
       "4                                0.026178   \n",
       "\n",
       "   reference_price_seconds_in_bucket_group_rank  \n",
       "0                                      0.659686  \n",
       "1                                      0.554974  \n",
       "2                                      0.811518  \n",
       "3                                      0.287958  \n",
       "4                                      0.842932  "
      ]
     },
     "metadata": {},
     "output_type": "display_data"
    },
    {
     "data": {
      "text/plain": [
       "(1309440, 130)"
      ]
     },
     "metadata": {},
     "output_type": "display_data"
    },
    {
     "data": {
      "text/plain": [
       "0   -3.029704\n",
       "1   -5.519986\n",
       "2   -8.389950\n",
       "3   -4.010200\n",
       "4   -7.349849\n",
       "Name: target, dtype: float64"
      ]
     },
     "metadata": {},
     "output_type": "display_data"
    }
   ],
   "source": [
    "def load_df_from_zip(zip_filename, csv_filename):\n",
    "    with zipfile.ZipFile(zip_filename, 'r') as zf:\n",
    "        with zf.open(csv_filename) as csvfile:\n",
    "            return pd.read_csv(csvfile)\n",
    "\n",
    "\n",
    "df_part_1 = load_df_from_zip(\"data_features_part_1.zip\", \"data_features_part_1.csv\")\n",
    "# df_part_2 = load_df_from_zip(\"data_features_part_2.zip\", \"data_features_part_2.csv\")\n",
    "# df_part_3 = load_df_from_zip(\"data_features_part_3.zip\", \"data_features_part_3.csv\")\n",
    "# df_part_4 = load_df_from_zip(\"data_features_part_4.zip\", \"data_features_part_4.csv\")\n",
    "\n",
    "# Concatenate all parts into a single DataFrame\n",
    "# df = pd.concat([df_part_1, df_part_2], ignore_index=True)\n",
    "df = df_part_1 #[['target', 'stock_id', 'vwap', 'micro_price', 'seconds_in_bucket', 'wap', 'wap_kurtosis', 'market_urgency_v2', 'market_urgency', 'wap_skewness', 'mid_price', 'date_id', 'ask_price', 'bid_price', 'time_id', 'wap_reference_price_imb', 'wap_near_price_imb', 'seconds_in_bucket_group', 'matched_size_group_expanding_mean100', 'wap_group_first_ratio']]\n",
    "\n",
    "display(df.head(), df.shape, df['target'].head())\n"
   ]
  },
  {
   "cell_type": "markdown",
   "metadata": {},
   "source": [
    "## Data Preparation"
   ]
  },
  {
   "cell_type": "code",
   "execution_count": 10,
   "metadata": {},
   "outputs": [],
   "source": [
    "# Specify columns to scale vs id columns\n",
    "id_cols = ['date_id', 'time_id', 'stock_id']\n",
    "scale_cols = [col for col in df.columns if col not in id_cols + ['target']]\n",
    "\n",
    "scaler = MinMaxScaler().fit(df[scale_cols])\n",
    "def scale_data(df, scaler, scale_cols, id_cols):\n",
    "    scaled = scaler.transform(df[scale_cols])\n",
    "    scaled_df = pd.DataFrame(scaled, columns=scale_cols, index=df.index)\n",
    "    for col in id_cols + ['target']:\n",
    "        scaled_df[col] = df[col].values\n",
    "    return scaled_df\n",
    "\n",
    "df = scale_data(df, scaler, scale_cols, id_cols)\n",
    "groups = df['time_id'].values\n",
    "\n",
    "cv = PurgedGroupTimeSeriesSplit(n_splits=N_FOLDS, val_group_gap=10)\n"
   ]
  },
  {
   "cell_type": "markdown",
   "metadata": {},
   "source": [
    "## Define Dataset, Model"
   ]
  },
  {
   "cell_type": "code",
   "execution_count": null,
   "metadata": {},
   "outputs": [],
   "source": [
    "# - Groups data by `time_id`, treating each time step as a separate sample.\n",
    "# - Sorts and reindexes stocks to ensure consistent ordering.\n",
    "# - Converts selected features (`scale_cols`) and target values into PyTorch tensors.\n",
    "# - Returns transposed feature tensor and target tensor for each time step.\n",
    "class StockDataset(Dataset):\n",
    "    def __init__(self, df, scale_cols, id_cols):\n",
    "        self.scale_cols = scale_cols\n",
    "        self.id_cols = id_cols\n",
    "        self.groups = [group for _, group in df.groupby('time_id')]\n",
    "        \n",
    "    def __len__(self):\n",
    "        return len(self.groups)\n",
    "    \n",
    "    def __getitem__(self, idx):\n",
    "        group = self.groups[idx].copy()\n",
    "        group = group.sort_values('stock_id')\n",
    "        group = group.set_index('stock_id').reindex(range(200), fill_value=0).reset_index()\n",
    "        features_tensor = torch.tensor(group[self.scale_cols].values, dtype=torch.float32)\n",
    "        targets_tensor = torch.tensor(group['target'].values, dtype=torch.float32)\n",
    "        return features_tensor.T, targets_tensor\n",
    "\n",
    "class OptiverCNN(nn.Module):\n",
    "    def __init__(self, input_dim):\n",
    "        super(OptiverCNN, self).__init__()\n",
    "        self.conv1 = nn.Conv1d(input_dim, 64, kernel_size=3, padding=1)\n",
    "        self.conv2 = nn.Conv1d(64, 64, kernel_size=3, padding=1)\n",
    "        self.pool1 = nn.AvgPool1d(2)\n",
    "        \n",
    "        self.conv3 = nn.Conv1d(64, 128, kernel_size=3, padding=1)\n",
    "        self.conv4 = nn.Conv1d(128, 128, kernel_size=3, padding=1)\n",
    "        self.pool2 = nn.AvgPool1d(2)\n",
    "        \n",
    "        self.conv5 = nn.Conv1d(128, 256, kernel_size=3, padding=1)\n",
    "        self.conv6 = nn.Conv1d(256, 256, kernel_size=3, padding=1)\n",
    "        self.conv7 = nn.Conv1d(256, 256, kernel_size=3, padding=1)\n",
    "        \n",
    "        self.global_pool = nn.AdaptiveAvgPool1d(1)\n",
    "        self.dropout = nn.Dropout(DROPOUT)\n",
    "        self.fc1 = nn.Linear(256, 32)\n",
    "        self.fc2 = nn.Linear(32, 200)\n",
    "        self.relu = nn.ReLU()\n",
    "        \n",
    "    def forward(self, x):\n",
    "        x = self.relu(self.conv1(x))\n",
    "        x = self.relu(self.conv2(x))\n",
    "        x = self.pool1(x)\n",
    "        x = self.relu(self.conv3(x))\n",
    "        x = self.relu(self.conv4(x))\n",
    "        x = self.pool2(x)\n",
    "        x = self.relu(self.conv5(x))\n",
    "        x = self.relu(self.conv6(x))\n",
    "        x = self.relu(self.conv7(x))\n",
    "        x = self.global_pool(x)\n",
    "        x = x.squeeze(-1)\n",
    "        x = self.dropout(x)\n",
    "        x = self.relu(self.fc1(x))\n",
    "        output = self.fc2(x)\n",
    "        return output\n",
    "\n",
    "model_input_dim = len(scale_cols)\n"
   ]
  },
  {
   "cell_type": "markdown",
   "metadata": {},
   "source": [
    "## Main Training Loop"
   ]
  },
  {
   "cell_type": "code",
   "execution_count": null,
   "metadata": {},
   "outputs": [
    {
     "name": "stdout",
     "output_type": "stream",
     "text": [
      "\n",
      "------------------ Fold 1 ------------------\n"
     ]
    },
    {
     "name": "stderr",
     "output_type": "stream",
     "text": [
      "/Users/dawsonhaddox/anaconda3/envs/cosc78/lib/python3.11/site-packages/torch/optim/lr_scheduler.py:28: UserWarning: The verbose parameter is deprecated. Please use get_last_lr() to access the learning rate.\n",
      "  warnings.warn(\"The verbose parameter is deprecated. Please use get_last_lr() \"\n",
      "                                                                      \r"
     ]
    },
    {
     "name": "stdout",
     "output_type": "stream",
     "text": [
      "Epoch 1: Train MAE: 5.0436 | Val MAE: 5.1468 | LR: 0.000100\n",
      "--> New best model saved with val MAE: 5.1468\n"
     ]
    },
    {
     "name": "stderr",
     "output_type": "stream",
     "text": [
      "                                                                      \r"
     ]
    },
    {
     "name": "stdout",
     "output_type": "stream",
     "text": [
      "Epoch 2: Train MAE: 5.0413 | Val MAE: 5.1459 | LR: 0.000100\n",
      "--> New best model saved with val MAE: 5.1459\n"
     ]
    },
    {
     "name": "stderr",
     "output_type": "stream",
     "text": [
      "                                                                      \r"
     ]
    },
    {
     "name": "stdout",
     "output_type": "stream",
     "text": [
      "Epoch 3: Train MAE: 5.0403 | Val MAE: 5.1456 | LR: 0.000100\n",
      "--> New best model saved with val MAE: 5.1456\n"
     ]
    },
    {
     "name": "stderr",
     "output_type": "stream",
     "text": [
      "                                                                      \r"
     ]
    },
    {
     "name": "stdout",
     "output_type": "stream",
     "text": [
      "Epoch 4: Train MAE: 5.0398 | Val MAE: 5.1456 | LR: 0.000100\n",
      "--> New best model saved with val MAE: 5.1456\n"
     ]
    },
    {
     "name": "stderr",
     "output_type": "stream",
     "text": [
      "                                                                      \r"
     ]
    },
    {
     "name": "stdout",
     "output_type": "stream",
     "text": [
      "Epoch 5: Train MAE: 5.0393 | Val MAE: 5.1456 | LR: 0.000100\n"
     ]
    },
    {
     "name": "stderr",
     "output_type": "stream",
     "text": [
      "                                                                      \r"
     ]
    },
    {
     "name": "stdout",
     "output_type": "stream",
     "text": [
      "Epoch 6: Train MAE: 5.0389 | Val MAE: 5.1458 | LR: 0.000100\n"
     ]
    },
    {
     "name": "stderr",
     "output_type": "stream",
     "text": [
      "                                                                      \r"
     ]
    },
    {
     "name": "stdout",
     "output_type": "stream",
     "text": [
      "Epoch 7: Train MAE: 5.0384 | Val MAE: 5.1461 | LR: 0.000100\n"
     ]
    },
    {
     "name": "stderr",
     "output_type": "stream",
     "text": [
      "                                                                      \r"
     ]
    },
    {
     "name": "stdout",
     "output_type": "stream",
     "text": [
      "Epoch 8: Train MAE: 5.0378 | Val MAE: 5.1467 | LR: 0.000010\n"
     ]
    },
    {
     "name": "stderr",
     "output_type": "stream",
     "text": [
      "                                                                      \r"
     ]
    },
    {
     "name": "stdout",
     "output_type": "stream",
     "text": [
      "Epoch 9: Train MAE: 5.0374 | Val MAE: 5.1464 | LR: 0.000010\n"
     ]
    },
    {
     "name": "stderr",
     "output_type": "stream",
     "text": [
      "                                                                       \r"
     ]
    },
    {
     "name": "stdout",
     "output_type": "stream",
     "text": [
      "Epoch 10: Train MAE: 5.0373 | Val MAE: 5.1465 | LR: 0.000010\n"
     ]
    },
    {
     "name": "stderr",
     "output_type": "stream",
     "text": [
      "                                                                       \r"
     ]
    },
    {
     "name": "stdout",
     "output_type": "stream",
     "text": [
      "Epoch 11: Train MAE: 5.0372 | Val MAE: 5.1465 | LR: 0.000010\n"
     ]
    },
    {
     "name": "stderr",
     "output_type": "stream",
     "text": [
      "                                                                       \r"
     ]
    },
    {
     "name": "stdout",
     "output_type": "stream",
     "text": [
      "Epoch 12: Train MAE: 5.0371 | Val MAE: 5.1466 | LR: 0.000010\n",
      "Early stopping triggered.\n",
      "\n",
      "------------------ Fold 2 ------------------\n"
     ]
    },
    {
     "name": "stderr",
     "output_type": "stream",
     "text": [
      "/Users/dawsonhaddox/anaconda3/envs/cosc78/lib/python3.11/site-packages/torch/optim/lr_scheduler.py:28: UserWarning: The verbose parameter is deprecated. Please use get_last_lr() to access the learning rate.\n",
      "  warnings.warn(\"The verbose parameter is deprecated. Please use get_last_lr() \"\n",
      "                                                                      \r"
     ]
    },
    {
     "name": "stdout",
     "output_type": "stream",
     "text": [
      "Epoch 1: Train MAE: 5.0946 | Val MAE: 5.0161 | LR: 0.000100\n",
      "--> New best model saved with val MAE: 5.0161\n"
     ]
    },
    {
     "name": "stderr",
     "output_type": "stream",
     "text": [
      "                                                                      \r"
     ]
    },
    {
     "name": "stdout",
     "output_type": "stream",
     "text": [
      "Epoch 2: Train MAE: 5.0930 | Val MAE: 5.0156 | LR: 0.000100\n",
      "--> New best model saved with val MAE: 5.0156\n"
     ]
    },
    {
     "name": "stderr",
     "output_type": "stream",
     "text": [
      "                                                                      \r"
     ]
    },
    {
     "name": "stdout",
     "output_type": "stream",
     "text": [
      "Epoch 3: Train MAE: 5.0918 | Val MAE: 5.0154 | LR: 0.000100\n",
      "--> New best model saved with val MAE: 5.0154\n"
     ]
    },
    {
     "name": "stderr",
     "output_type": "stream",
     "text": [
      "                                                                      \r"
     ]
    },
    {
     "name": "stdout",
     "output_type": "stream",
     "text": [
      "Epoch 4: Train MAE: 5.0911 | Val MAE: 5.0154 | LR: 0.000100\n",
      "--> New best model saved with val MAE: 5.0154\n"
     ]
    },
    {
     "name": "stderr",
     "output_type": "stream",
     "text": [
      "                                                                      \r"
     ]
    },
    {
     "name": "stdout",
     "output_type": "stream",
     "text": [
      "Epoch 5: Train MAE: 5.0905 | Val MAE: 5.0153 | LR: 0.000100\n",
      "--> New best model saved with val MAE: 5.0153\n"
     ]
    },
    {
     "name": "stderr",
     "output_type": "stream",
     "text": [
      "                                                                      \r"
     ]
    },
    {
     "name": "stdout",
     "output_type": "stream",
     "text": [
      "Epoch 6: Train MAE: 5.0900 | Val MAE: 5.0154 | LR: 0.000100\n"
     ]
    },
    {
     "name": "stderr",
     "output_type": "stream",
     "text": [
      "                                                                      \r"
     ]
    },
    {
     "name": "stdout",
     "output_type": "stream",
     "text": [
      "Epoch 7: Train MAE: 5.0894 | Val MAE: 5.0158 | LR: 0.000100\n"
     ]
    },
    {
     "name": "stderr",
     "output_type": "stream",
     "text": [
      "                                                                      \r"
     ]
    },
    {
     "name": "stdout",
     "output_type": "stream",
     "text": [
      "Epoch 8: Train MAE: 5.0889 | Val MAE: 5.0161 | LR: 0.000100\n"
     ]
    },
    {
     "name": "stderr",
     "output_type": "stream",
     "text": [
      "                                                                      \r"
     ]
    },
    {
     "name": "stdout",
     "output_type": "stream",
     "text": [
      "Epoch 9: Train MAE: 5.0884 | Val MAE: 5.0165 | LR: 0.000010\n"
     ]
    },
    {
     "name": "stderr",
     "output_type": "stream",
     "text": [
      "                                                                       \r"
     ]
    },
    {
     "name": "stdout",
     "output_type": "stream",
     "text": [
      "Epoch 10: Train MAE: 5.0879 | Val MAE: 5.0162 | LR: 0.000010\n"
     ]
    },
    {
     "name": "stderr",
     "output_type": "stream",
     "text": [
      "                                                                       \r"
     ]
    },
    {
     "name": "stdout",
     "output_type": "stream",
     "text": [
      "Epoch 11: Train MAE: 5.0878 | Val MAE: 5.0165 | LR: 0.000010\n"
     ]
    },
    {
     "name": "stderr",
     "output_type": "stream",
     "text": [
      "                                                                       \r"
     ]
    },
    {
     "name": "stdout",
     "output_type": "stream",
     "text": [
      "Epoch 12: Train MAE: 5.0878 | Val MAE: 5.0163 | LR: 0.000010\n"
     ]
    },
    {
     "name": "stderr",
     "output_type": "stream",
     "text": [
      "                                                                       \r"
     ]
    },
    {
     "name": "stdout",
     "output_type": "stream",
     "text": [
      "Epoch 13: Train MAE: 5.0877 | Val MAE: 5.0164 | LR: 0.000010\n",
      "Early stopping triggered.\n",
      "\n",
      "------------------ Fold 3 ------------------\n"
     ]
    },
    {
     "name": "stderr",
     "output_type": "stream",
     "text": [
      "/Users/dawsonhaddox/anaconda3/envs/cosc78/lib/python3.11/site-packages/torch/optim/lr_scheduler.py:28: UserWarning: The verbose parameter is deprecated. Please use get_last_lr() to access the learning rate.\n",
      "  warnings.warn(\"The verbose parameter is deprecated. Please use get_last_lr() \"\n",
      "                                                                        \r"
     ]
    },
    {
     "name": "stdout",
     "output_type": "stream",
     "text": [
      "Epoch 1: Train MAE: 5.0671 | Val MAE: 5.9934 | LR: 0.000100\n",
      "--> New best model saved with val MAE: 5.9934\n"
     ]
    },
    {
     "name": "stderr",
     "output_type": "stream",
     "text": [
      "                                                                        \r"
     ]
    },
    {
     "name": "stdout",
     "output_type": "stream",
     "text": [
      "Epoch 2: Train MAE: 5.0654 | Val MAE: 5.9933 | LR: 0.000100\n",
      "--> New best model saved with val MAE: 5.9933\n"
     ]
    },
    {
     "name": "stderr",
     "output_type": "stream",
     "text": [
      "                                                                        \r"
     ]
    },
    {
     "name": "stdout",
     "output_type": "stream",
     "text": [
      "Epoch 3: Train MAE: 5.0648 | Val MAE: 5.9933 | LR: 0.000100\n",
      "--> New best model saved with val MAE: 5.9933\n"
     ]
    },
    {
     "name": "stderr",
     "output_type": "stream",
     "text": [
      "                                                                        \r"
     ]
    },
    {
     "name": "stdout",
     "output_type": "stream",
     "text": [
      "Epoch 4: Train MAE: 5.0644 | Val MAE: 5.9931 | LR: 0.000100\n",
      "--> New best model saved with val MAE: 5.9931\n"
     ]
    },
    {
     "name": "stderr",
     "output_type": "stream",
     "text": [
      "                                                                        \r"
     ]
    },
    {
     "name": "stdout",
     "output_type": "stream",
     "text": [
      "Epoch 5: Train MAE: 5.0640 | Val MAE: 5.9933 | LR: 0.000100\n"
     ]
    },
    {
     "name": "stderr",
     "output_type": "stream",
     "text": [
      "                                                                        \r"
     ]
    },
    {
     "name": "stdout",
     "output_type": "stream",
     "text": [
      "Epoch 6: Train MAE: 5.0635 | Val MAE: 5.9934 | LR: 0.000100\n"
     ]
    },
    {
     "name": "stderr",
     "output_type": "stream",
     "text": [
      "                                                                        \r"
     ]
    },
    {
     "name": "stdout",
     "output_type": "stream",
     "text": [
      "Epoch 7: Train MAE: 5.0631 | Val MAE: 5.9933 | LR: 0.000010\n"
     ]
    },
    {
     "name": "stderr",
     "output_type": "stream",
     "text": [
      "                                                                        \r"
     ]
    },
    {
     "name": "stdout",
     "output_type": "stream",
     "text": [
      "Epoch 8: Train MAE: 5.0627 | Val MAE: 5.9934 | LR: 0.000010\n"
     ]
    },
    {
     "name": "stderr",
     "output_type": "stream",
     "text": [
      "                                                                        \r"
     ]
    },
    {
     "name": "stdout",
     "output_type": "stream",
     "text": [
      "Epoch 9: Train MAE: 5.0626 | Val MAE: 5.9934 | LR: 0.000010\n"
     ]
    },
    {
     "name": "stderr",
     "output_type": "stream",
     "text": [
      "                                                                         \r"
     ]
    },
    {
     "name": "stdout",
     "output_type": "stream",
     "text": [
      "Epoch 10: Train MAE: 5.0626 | Val MAE: 5.9934 | LR: 0.000010\n"
     ]
    },
    {
     "name": "stderr",
     "output_type": "stream",
     "text": [
      "                                                                         \r"
     ]
    },
    {
     "name": "stdout",
     "output_type": "stream",
     "text": [
      "Epoch 11: Train MAE: 5.0625 | Val MAE: 5.9934 | LR: 0.000010\n"
     ]
    },
    {
     "name": "stderr",
     "output_type": "stream",
     "text": [
      "                                                                         \r"
     ]
    },
    {
     "name": "stdout",
     "output_type": "stream",
     "text": [
      "Epoch 12: Train MAE: 5.0625 | Val MAE: 5.9935 | LR: 0.000010\n",
      "Early stopping triggered.\n",
      "\n",
      "------------------ Fold 4 ------------------\n"
     ]
    },
    {
     "name": "stderr",
     "output_type": "stream",
     "text": [
      "/Users/dawsonhaddox/anaconda3/envs/cosc78/lib/python3.11/site-packages/torch/optim/lr_scheduler.py:28: UserWarning: The verbose parameter is deprecated. Please use get_last_lr() to access the learning rate.\n",
      "  warnings.warn(\"The verbose parameter is deprecated. Please use get_last_lr() \"\n",
      "                                                                        \r"
     ]
    },
    {
     "name": "stdout",
     "output_type": "stream",
     "text": [
      "Epoch 1: Train MAE: 5.2913 | Val MAE: 7.2417 | LR: 0.000100\n",
      "--> New best model saved with val MAE: 7.2417\n"
     ]
    },
    {
     "name": "stderr",
     "output_type": "stream",
     "text": [
      "                                                                        \r"
     ]
    },
    {
     "name": "stdout",
     "output_type": "stream",
     "text": [
      "Epoch 2: Train MAE: 5.2901 | Val MAE: 7.2412 | LR: 0.000100\n",
      "--> New best model saved with val MAE: 7.2412\n"
     ]
    },
    {
     "name": "stderr",
     "output_type": "stream",
     "text": [
      "                                                                        \r"
     ]
    },
    {
     "name": "stdout",
     "output_type": "stream",
     "text": [
      "Epoch 3: Train MAE: 5.2897 | Val MAE: 7.2407 | LR: 0.000100\n",
      "--> New best model saved with val MAE: 7.2407\n"
     ]
    },
    {
     "name": "stderr",
     "output_type": "stream",
     "text": [
      "                                                                        \r"
     ]
    },
    {
     "name": "stdout",
     "output_type": "stream",
     "text": [
      "Epoch 4: Train MAE: 5.2892 | Val MAE: 7.2400 | LR: 0.000100\n",
      "--> New best model saved with val MAE: 7.2400\n"
     ]
    },
    {
     "name": "stderr",
     "output_type": "stream",
     "text": [
      "                                                                        \r"
     ]
    },
    {
     "name": "stdout",
     "output_type": "stream",
     "text": [
      "Epoch 5: Train MAE: 5.2886 | Val MAE: 7.2394 | LR: 0.000100\n",
      "--> New best model saved with val MAE: 7.2394\n"
     ]
    },
    {
     "name": "stderr",
     "output_type": "stream",
     "text": [
      "                                                                        \r"
     ]
    },
    {
     "name": "stdout",
     "output_type": "stream",
     "text": [
      "Epoch 6: Train MAE: 5.2882 | Val MAE: 7.2386 | LR: 0.000100\n",
      "--> New best model saved with val MAE: 7.2386\n"
     ]
    },
    {
     "name": "stderr",
     "output_type": "stream",
     "text": [
      "                                                                        \r"
     ]
    },
    {
     "name": "stdout",
     "output_type": "stream",
     "text": [
      "Epoch 7: Train MAE: 5.2878 | Val MAE: 7.2382 | LR: 0.000100\n",
      "--> New best model saved with val MAE: 7.2382\n"
     ]
    },
    {
     "name": "stderr",
     "output_type": "stream",
     "text": [
      "                                                                        \r"
     ]
    },
    {
     "name": "stdout",
     "output_type": "stream",
     "text": [
      "Epoch 8: Train MAE: 5.2875 | Val MAE: 7.2379 | LR: 0.000100\n",
      "--> New best model saved with val MAE: 7.2379\n"
     ]
    },
    {
     "name": "stderr",
     "output_type": "stream",
     "text": [
      "                                                                        \r"
     ]
    },
    {
     "name": "stdout",
     "output_type": "stream",
     "text": [
      "Epoch 9: Train MAE: 5.2872 | Val MAE: 7.2375 | LR: 0.000100\n",
      "--> New best model saved with val MAE: 7.2375\n"
     ]
    },
    {
     "name": "stderr",
     "output_type": "stream",
     "text": [
      "                                                                         \r"
     ]
    },
    {
     "name": "stdout",
     "output_type": "stream",
     "text": [
      "Epoch 10: Train MAE: 5.2870 | Val MAE: 7.2372 | LR: 0.000100\n",
      "--> New best model saved with val MAE: 7.2372\n"
     ]
    },
    {
     "name": "stderr",
     "output_type": "stream",
     "text": [
      "                                                                            \r"
     ]
    },
    {
     "name": "stdout",
     "output_type": "stream",
     "text": [
      "Epoch 11: Train MAE: 5.2867 | Val MAE: 7.2369 | LR: 0.000100\n",
      "--> New best model saved with val MAE: 7.2369\n"
     ]
    },
    {
     "name": "stderr",
     "output_type": "stream",
     "text": [
      "                                                                         \r"
     ]
    },
    {
     "name": "stdout",
     "output_type": "stream",
     "text": [
      "Epoch 12: Train MAE: 5.2866 | Val MAE: 7.2367 | LR: 0.000100\n",
      "--> New best model saved with val MAE: 7.2367\n"
     ]
    },
    {
     "name": "stderr",
     "output_type": "stream",
     "text": [
      "                                                                         \r"
     ]
    },
    {
     "name": "stdout",
     "output_type": "stream",
     "text": [
      "Epoch 13: Train MAE: 5.2866 | Val MAE: 7.2371 | LR: 0.000100\n"
     ]
    },
    {
     "name": "stderr",
     "output_type": "stream",
     "text": [
      "                                                                         \r"
     ]
    },
    {
     "name": "stdout",
     "output_type": "stream",
     "text": [
      "Epoch 14: Train MAE: 5.2864 | Val MAE: 7.2366 | LR: 0.000100\n",
      "--> New best model saved with val MAE: 7.2366\n"
     ]
    },
    {
     "name": "stderr",
     "output_type": "stream",
     "text": [
      "                                                                         \r"
     ]
    },
    {
     "name": "stdout",
     "output_type": "stream",
     "text": [
      "Epoch 15: Train MAE: 5.2864 | Val MAE: 7.2370 | LR: 0.000100\n"
     ]
    },
    {
     "name": "stderr",
     "output_type": "stream",
     "text": [
      "                                                                         \r"
     ]
    },
    {
     "name": "stdout",
     "output_type": "stream",
     "text": [
      "Epoch 16: Train MAE: 5.2863 | Val MAE: 7.2367 | LR: 0.000100\n"
     ]
    },
    {
     "name": "stderr",
     "output_type": "stream",
     "text": [
      "                                                                         \r"
     ]
    },
    {
     "name": "stdout",
     "output_type": "stream",
     "text": [
      "Epoch 17: Train MAE: 5.2863 | Val MAE: 7.2370 | LR: 0.000010\n"
     ]
    },
    {
     "name": "stderr",
     "output_type": "stream",
     "text": [
      "                                                                         \r"
     ]
    },
    {
     "name": "stdout",
     "output_type": "stream",
     "text": [
      "Epoch 18: Train MAE: 5.2862 | Val MAE: 7.2366 | LR: 0.000010\n"
     ]
    },
    {
     "name": "stderr",
     "output_type": "stream",
     "text": [
      "                                                                         \r"
     ]
    },
    {
     "name": "stdout",
     "output_type": "stream",
     "text": [
      "Epoch 19: Train MAE: 5.2861 | Val MAE: 7.2365 | LR: 0.000010\n",
      "--> New best model saved with val MAE: 7.2365\n"
     ]
    },
    {
     "name": "stderr",
     "output_type": "stream",
     "text": [
      "                                                                         \r"
     ]
    },
    {
     "name": "stdout",
     "output_type": "stream",
     "text": [
      "Epoch 20: Train MAE: 5.2861 | Val MAE: 7.2366 | LR: 0.000010\n"
     ]
    },
    {
     "name": "stderr",
     "output_type": "stream",
     "text": [
      "                                                                         \r"
     ]
    },
    {
     "name": "stdout",
     "output_type": "stream",
     "text": [
      "Epoch 21: Train MAE: 5.2861 | Val MAE: 7.2365 | LR: 0.000010\n"
     ]
    },
    {
     "name": "stderr",
     "output_type": "stream",
     "text": [
      "                                                                         \r"
     ]
    },
    {
     "name": "stdout",
     "output_type": "stream",
     "text": [
      "Epoch 22: Train MAE: 5.2860 | Val MAE: 7.2365 | LR: 0.000010\n",
      "--> New best model saved with val MAE: 7.2365\n"
     ]
    },
    {
     "name": "stderr",
     "output_type": "stream",
     "text": [
      "                                                                         \r"
     ]
    },
    {
     "name": "stdout",
     "output_type": "stream",
     "text": [
      "Epoch 23: Train MAE: 5.2861 | Val MAE: 7.2365 | LR: 0.000001\n"
     ]
    },
    {
     "name": "stderr",
     "output_type": "stream",
     "text": [
      "                                                                         \r"
     ]
    },
    {
     "name": "stdout",
     "output_type": "stream",
     "text": [
      "Epoch 24: Train MAE: 5.2860 | Val MAE: 7.2365 | LR: 0.000001\n"
     ]
    },
    {
     "name": "stderr",
     "output_type": "stream",
     "text": [
      "                                                                         \r"
     ]
    },
    {
     "name": "stdout",
     "output_type": "stream",
     "text": [
      "Epoch 25: Train MAE: 5.2860 | Val MAE: 7.2365 | LR: 0.000001\n"
     ]
    },
    {
     "name": "stderr",
     "output_type": "stream",
     "text": [
      "                                                                         \r"
     ]
    },
    {
     "name": "stdout",
     "output_type": "stream",
     "text": [
      "Epoch 26: Train MAE: 5.2861 | Val MAE: 7.2365 | LR: 0.000001\n"
     ]
    },
    {
     "name": "stderr",
     "output_type": "stream",
     "text": [
      "                                                                         \r"
     ]
    },
    {
     "name": "stdout",
     "output_type": "stream",
     "text": [
      "Epoch 27: Train MAE: 5.2859 | Val MAE: 7.2365 | LR: 0.000001\n"
     ]
    },
    {
     "name": "stderr",
     "output_type": "stream",
     "text": [
      "                                                                         \r"
     ]
    },
    {
     "name": "stdout",
     "output_type": "stream",
     "text": [
      "Epoch 28: Train MAE: 5.2861 | Val MAE: 7.2365 | LR: 0.000001\n"
     ]
    },
    {
     "name": "stderr",
     "output_type": "stream",
     "text": [
      "                                                                         \r"
     ]
    },
    {
     "name": "stdout",
     "output_type": "stream",
     "text": [
      "Epoch 29: Train MAE: 5.2860 | Val MAE: 7.2365 | LR: 0.000000\n"
     ]
    },
    {
     "name": "stderr",
     "output_type": "stream",
     "text": [
      "                                                                         \r"
     ]
    },
    {
     "name": "stdout",
     "output_type": "stream",
     "text": [
      "Epoch 30: Train MAE: 5.2861 | Val MAE: 7.2365 | LR: 0.000000\n",
      "Early stopping triggered.\n",
      "\n",
      "------------------ Fold 5 ------------------\n"
     ]
    },
    {
     "name": "stderr",
     "output_type": "stream",
     "text": [
      "/Users/dawsonhaddox/anaconda3/envs/cosc78/lib/python3.11/site-packages/torch/optim/lr_scheduler.py:28: UserWarning: The verbose parameter is deprecated. Please use get_last_lr() to access the learning rate.\n",
      "  warnings.warn(\"The verbose parameter is deprecated. Please use get_last_lr() \"\n",
      "                                                                        \r"
     ]
    },
    {
     "name": "stdout",
     "output_type": "stream",
     "text": [
      "Epoch 1: Train MAE: 5.6896 | Val MAE: 7.2261 | LR: 0.000100\n",
      "--> New best model saved with val MAE: 7.2261\n"
     ]
    },
    {
     "name": "stderr",
     "output_type": "stream",
     "text": [
      "                                                                        \r"
     ]
    },
    {
     "name": "stdout",
     "output_type": "stream",
     "text": [
      "Epoch 2: Train MAE: 5.6877 | Val MAE: 7.2261 | LR: 0.000100\n",
      "--> New best model saved with val MAE: 7.2261\n"
     ]
    },
    {
     "name": "stderr",
     "output_type": "stream",
     "text": [
      "                                                                        \r"
     ]
    },
    {
     "name": "stdout",
     "output_type": "stream",
     "text": [
      "Epoch 3: Train MAE: 5.6870 | Val MAE: 7.2262 | LR: 0.000100\n"
     ]
    },
    {
     "name": "stderr",
     "output_type": "stream",
     "text": [
      "                                                                        \r"
     ]
    },
    {
     "name": "stdout",
     "output_type": "stream",
     "text": [
      "Epoch 4: Train MAE: 5.6865 | Val MAE: 7.2269 | LR: 0.000100\n"
     ]
    },
    {
     "name": "stderr",
     "output_type": "stream",
     "text": [
      "                                                                        \r"
     ]
    },
    {
     "name": "stdout",
     "output_type": "stream",
     "text": [
      "Epoch 5: Train MAE: 5.6860 | Val MAE: 7.2269 | LR: 0.000100\n"
     ]
    },
    {
     "name": "stderr",
     "output_type": "stream",
     "text": [
      "                                                                        \r"
     ]
    },
    {
     "name": "stdout",
     "output_type": "stream",
     "text": [
      "Epoch 6: Train MAE: 5.6854 | Val MAE: 7.2282 | LR: 0.000100\n"
     ]
    },
    {
     "name": "stderr",
     "output_type": "stream",
     "text": [
      "                                                                        \r"
     ]
    },
    {
     "name": "stdout",
     "output_type": "stream",
     "text": [
      "Epoch 7: Train MAE: 5.6850 | Val MAE: 7.2284 | LR: 0.000010\n"
     ]
    },
    {
     "name": "stderr",
     "output_type": "stream",
     "text": [
      "                                                                        \r"
     ]
    },
    {
     "name": "stdout",
     "output_type": "stream",
     "text": [
      "Epoch 8: Train MAE: 5.6845 | Val MAE: 7.2287 | LR: 0.000010\n"
     ]
    },
    {
     "name": "stderr",
     "output_type": "stream",
     "text": [
      "                                                                        \r"
     ]
    },
    {
     "name": "stdout",
     "output_type": "stream",
     "text": [
      "Epoch 9: Train MAE: 5.6845 | Val MAE: 7.2287 | LR: 0.000010\n"
     ]
    },
    {
     "name": "stderr",
     "output_type": "stream",
     "text": [
      "                                                                         \r"
     ]
    },
    {
     "name": "stdout",
     "output_type": "stream",
     "text": [
      "Epoch 10: Train MAE: 5.6845 | Val MAE: 7.2288 | LR: 0.000010\n",
      "Early stopping triggered.\n",
      "\n",
      "CV Results:\n",
      "Average validation loss: 6.1233\n"
     ]
    }
   ],
   "source": [
    "def train_fold(train_df, val_df):\n",
    "    # Create dataset & data loaders for train & val\n",
    "    train_ds = StockDataset(train_df, scale_cols, id_cols)\n",
    "    val_ds = StockDataset(val_df, scale_cols, id_cols)\n",
    "    \n",
    "    train_loader = DataLoader(train_ds, batch_size=BATCH_SIZE, shuffle=True)\n",
    "    val_loader = DataLoader(val_ds, batch_size=BATCH_SIZE)\n",
    "    \n",
    "    # Initialize model, loss func, optimizer, lr scheduler\n",
    "    model = OptiverCNN(input_dim=model_input_dim).to(device)\n",
    "    \n",
    "    mae_criterion = nn.L1Loss()\n",
    "    optimizer = AdamW(model.parameters(), lr=LEARNING_RATE, weight_decay=WEIGHT_DECAY)\n",
    "    scheduler = ReduceLROnPlateau(optimizer, mode='min', patience=LR_PATIENCE, factor=0.1, verbose=True)\n",
    "    \n",
    "    # Track best val loss and early stopping\n",
    "    best_val_loss = float('inf')\n",
    "    patience_counter = PATIENCE\n",
    "    best_model_state = None\n",
    "    \n",
    "    # Training loop\n",
    "    for epoch in range(NUM_EPOCHS):\n",
    "        model.train()\n",
    "        train_loss = 0.0\n",
    "        for X, y in tqdm(train_loader, desc=f'Fold Training Epoch {epoch+1}', leave=False):\n",
    "            X, y = X.to(device), y.to(device)\n",
    "            optimizer.zero_grad()\n",
    "            outputs = model(X)\n",
    "            loss = mae_criterion(outputs, y)\n",
    "            loss.backward()\n",
    "            clip_grad_norm_(model.parameters(), 1.0)\n",
    "            optimizer.step()\n",
    "            train_loss += loss.item() * X.size(0)\n",
    "        train_loss /= len(train_loader.dataset)\n",
    "        \n",
    "        # Validation loop\n",
    "        model.eval()\n",
    "        val_loss = 0.0\n",
    "        with torch.no_grad():\n",
    "            for X, y in val_loader:\n",
    "                X, y = X.to(device), y.to(device)\n",
    "                outputs = model(X)\n",
    "                loss = mae_criterion(outputs, y)\n",
    "                val_loss += loss.item() * X.size(0)\n",
    "        val_loss /= len(val_loader.dataset)\n",
    "        \n",
    "        # Adjust lr based on val loss\n",
    "        scheduler.step(val_loss)\n",
    "        current_lr = optimizer.param_groups[0]['lr']\n",
    "        print(f\"Epoch {epoch+1}: Train MAE: {train_loss:.4f} | Val MAE: {val_loss:.4f} | LR: {current_lr:.6f}\")\n",
    "        \n",
    "        # Check for best model, implement early stopping\n",
    "        if val_loss < best_val_loss:\n",
    "            best_val_loss = val_loss\n",
    "            best_model_state = model.state_dict()\n",
    "            patience_counter = PATIENCE\n",
    "            print(f\"--> New best model saved with val MAE: {best_val_loss:.4f}\")\n",
    "        else:\n",
    "            patience_counter -= 1\n",
    "            if patience_counter == 0:\n",
    "                print(\"Early stopping triggered.\")\n",
    "                break\n",
    "\n",
    "    return best_model_state, best_val_loss\n",
    "\n",
    "# CV setup\n",
    "fold_results = []\n",
    "df = df.reset_index(drop=True)\n",
    "cv = PurgedGroupTimeSeriesSplit(n_splits=N_FOLDS, val_group_gap=10)\n",
    "\n",
    "# Training for each fold\n",
    "for fold, (train_idx, val_idx) in enumerate(cv.split(df, groups=groups)):\n",
    "    print(f\"\\n------------------ Fold {fold+1} ------------------\")\n",
    "    train_fold_df = df.iloc[train_idx].reset_index(drop=True)\n",
    "    val_fold_df = df.iloc[val_idx].reset_index(drop=True)\n",
    "    \n",
    "    best_state, best_loss = train_fold(train_fold_df, val_fold_df)\n",
    "    fold_results.append(best_loss)\n",
    "    \n",
    "    torch.save(best_state, f'best_cnn_model_fold_{fold+1}.pth')\n",
    "\n",
    "# Display results\n",
    "print(\"\\nCV Results:\")\n",
    "print(f\"Average validation loss: {np.mean(fold_results):.4f}\")"
   ]
  }
 ],
 "metadata": {
  "kernelspec": {
   "display_name": "cosc78",
   "language": "python",
   "name": "python3"
  },
  "language_info": {
   "codemirror_mode": {
    "name": "ipython",
    "version": 3
   },
   "file_extension": ".py",
   "mimetype": "text/x-python",
   "name": "python",
   "nbconvert_exporter": "python",
   "pygments_lexer": "ipython3",
   "version": "3.11.5"
  }
 },
 "nbformat": 4,
 "nbformat_minor": 2
}
